{
 "cells": [
  {
   "cell_type": "code",
   "execution_count": 5,
   "outputs": [],
   "source": [
    "import pickle\n",
    "import pandas as pd"
   ],
   "metadata": {
    "collapsed": false,
    "pycharm": {
     "name": "#%%\n"
    }
   }
  },
  {
   "cell_type": "code",
   "execution_count": 7,
   "outputs": [
    {
     "data": {
      "text/plain": "{'img': '/blueprint/servlet/resource/image/864122/3x4/108/144/bfe0b13e55f36eba3474cfb63090676a/5CEB141423745118655E8C8C0E17D111/gauland_alexander_gross.jpg',\n 'name': 'Dr. Alexander Gauland',\n 'direct': 0,\n 'geschlecht': 'männlich',\n 'id': '857328',\n 'href': '/abgeordnete/biografien/G/gauland_alexander-857328',\n 'ageGroup': '70 und älter',\n 'lastnamefirst': 'Gauland, Dr. Alexander',\n 'federalState': 'Brandenburg',\n 'party': 'AfD',\n 'votes': [{'date': datetime.date(2022, 12, 15),\n   'topic': 'Energiepreisbremse (Strompreisbremse)',\n   'vote': 'Enthalten'},\n  {'date': datetime.date(2022, 12, 15),\n   'topic': 'Energiepreisbremse ',\n   'vote': 'Nein'},\n  {'date': datetime.date(2022, 12, 2),\n   'topic': 'Jahressteuergesetz 2022 (Artikel 29 und 40)',\n   'vote': 'Nein'},\n  {'date': datetime.date(2022, 12, 2),\n   'topic': 'Aufenthaltsgesetz',\n   'vote': 'Nein'},\n  {'date': datetime.date(2022, 12, 1),\n   'topic': 'Braunkohleausstieg',\n   'vote': 'Nicht abg.                                                    '},\n  {'date': datetime.date(2022, 12, 1),\n   'topic': 'Änderung des Grundgesetzes (Artikel 82)',\n   'vote': 'Nein'},\n  {'date': datetime.date(2022, 12, 1),\n   'topic': 'Transatlantisches Wirtschafts- und Handelsabkommen (CETA)',\n   'vote': 'Nein'},\n  {'date': datetime.date(2022, 11, 25),\n   'topic': 'Haushaltsgesetz 2023',\n   'vote': 'Nein'},\n  {'date': datetime.date(2022, 11, 25),\n   'topic': 'Beschlussempfehlung Vermittlungsausschuss - Bürgergeld',\n   'vote': 'Nein'},\n  {'date': datetime.date(2022, 11, 24),\n   'topic': 'Änderung des Energiesicherungsgesetzes',\n   'vote': 'Nein'},\n  {'date': '23.11.2022',\n   'topic': 'Haushalt -\\xa0Geschäftsbereich des Bundeskanzlers und des Bundeskanzleramts',\n   'vote': 'Nein'},\n  {'date': '11.11.2022',\n   'topic': 'Änderung des Atomgesetzes  - 19. AtGÄndG (Beschlussempfehlung)',\n   'vote': 'Nein'},\n  {'date': '11.11.2022',\n   'topic': 'Änderung des Atomgesetzes - 19. AtGÄndG (Gesetzentwurf CDU/CSU)',\n   'vote': 'Ja'},\n  {'date': '11.11.2022',\n   'topic': 'Änderung des Atomgesetzes\\xa0 -\\xa019. AtGÄndG (Gesetzentwurf)',\n   'vote': 'Enthalten'},\n  {'date': '10.11.2022',\n   'topic': 'Einsprüche anlässlich der Wahl zum 20. Deutschen Bundestag',\n   'vote': 'Nein'},\n  {'date': '10.11.2022',\n   'topic': 'ERP-Wirtschaftsplangesetz 2023 (Änderungsantrag)',\n   'vote': 'Ja'},\n  {'date': '10.11.2022',\n   'topic': 'Änderung des Infektionsschutzgesetzes (2.Beratung)',\n   'vote': 'Nein'},\n  {'date': '10.11.2022',\n   'topic': '\\xa0Vermögensabgabe für Multimillionäre und Milliardäre',\n   'vote': 'Nein'},\n  {'date': '10.11.2022', 'topic': 'Inflationsausgleich', 'vote': 'Enthalten'},\n  {'date': '10.11.2022',\n   'topic': 'Bürgergeld-Gesetz (Beschlussempfehlung)',\n   'vote': 'Ja'},\n  {'date': '10.11.2022',\n   'topic': 'Bürgergeld-Gesetz (Schlussabstimmung)',\n   'vote': 'Nein'},\n  {'date': '10.11.2022',\n   'topic': 'Bürgergeld-Gesetz (Regelbedarfsstufen)',\n   'vote': 'Ja'},\n  {'date': '21.10.2022',\n   'topic': 'Einsatz der Bundeswehr im Irak',\n   'vote': 'Nein'},\n  {'date': '21.10.2022',\n   'topic': 'Entschließungsantrag CDU/CSU zu\\xa0Stabilisierungsfondsgesetz und\\xa0Wirtschaftsstabilisierungsfond',\n   'vote': 'Enthalten'},\n  {'date': '21.10.2022',\n   'topic': 'Antrag zu Beschluss gemäß Artikel 115 Absatz\\xa0 2 Satz 6 und 7 Grundgesetz',\n   'vote': 'Nein'},\n  {'date': '20.10.2022',\n   'topic': 'Bundeszentralregistergesetz',\n   'vote': 'Nicht abg.                                                    '},\n  {'date': '20.10.2022',\n   'topic': 'GKV-Finanzstabilisierungsgesetz',\n   'vote': 'Enthalten'},\n  {'date': '13.10.2022',\n   'topic': 'Strom- und Gassperren, Gas- und Strompreisdeckel (Beschlussempfehlung)',\n   'vote': 'Ja'},\n  {'date': '30.09.2022',\n   'topic': '30.09.2022: Fiskalpolitische Disziplin in Europa (Antrag CDU/CSU)',\n   'vote': 'Enthalten'},\n  {'date': '28.09.2022',\n   'topic': 'Entschließungsantrag zur Regierungserklärung vom 22. Juni 2022 (Beschlussempfehlung)',\n   'vote': 'Ja'},\n  {'date': '22.09.2022',\n   'topic': 'Änderung des Atomgesetzes (Gesetzentwurf AfD)',\n   'vote': 'Ja'},\n  {'date': '22.09.2022',\n   'topic': 'Änderung von Verbrauchsteuergesetzen (Entschließungsantrag)',\n   'vote': 'Ja'},\n  {'date': '22.09.2022',\n   'topic': 'Krisengewinne von Energiekonzernen',\n   'vote': 'Ja'},\n  {'date': '08.09.2022',\n   'topic': 'Neufassung des Infektionsschutzgesetzes',\n   'vote': 'Nein'},\n  {'date': '08.07.2022',\n   'topic': 'Bundeswehreinsatz in Bosnien und Herzegowina (EUFOR ALTHEA) (Beschlussempfehlung)',\n   'vote': 'Nein'},\n  {'date': '08.07.2022',\n   'topic': 'Bundeswehreinsatz in Kosovo (KFOR) (Beschlussempfehlung)',\n   'vote': 'Nein'},\n  {'date': '07.07.2022',\n   'topic': 'Bundeswehrbeschaffungsbeschleunigungsgesetz (Entschließungsantrag CDU/CSU)',\n   'vote': 'Nicht abg.                                                    '},\n  {'date': '07.07.2022',\n   'topic': '07.07.2022:\\xa0Bereithaltung von Ersatzkraftwerken (Beschlussempfehlung)',\n   'vote': 'Nicht abg.                                                    '},\n  {'date': '07.07.2022',\n   'topic': '07.07.2022:\\xa0Bereithaltung von Ersatzkraftwerken (Änderungsantrag CDU/CSU)',\n   'vote': 'Nicht abg.                                                    '},\n  {'date': '07.07.2022',\n   'topic': 'Bereithaltung von Ersatzkraftwerken (Änderungsantrag CDU/CSU)',\n   'vote': 'Nicht abg.                                                    '},\n  {'date': '07.07.2022',\n   'topic': 'Beschleunigter Ausbau erneuerbarer Energien (Beschlussempfehlung)',\n   'vote': 'Ja'},\n  {'date': '07.07.2022',\n   'topic': 'Bundesnaturschutzgesetz (Gesetzentwurf)',\n   'vote': 'Nein'},\n  {'date': '07.07.2022',\n   'topic': 'Windenergie an Land (Gesetzentwurf)',\n   'vote': 'Nein'},\n  {'date': '07.07.2022',\n   'topic': 'Windenergie auf See (Gesetzentwurf)',\n   'vote': 'Nein'},\n  {'date': '07.07.2022',\n   'topic': 'Sofortmaßnahmen für einen beschleunigten Ausbau erneuerbarer Energien (Gesetzentwurf)',\n   'vote': 'Nein'},\n  {'date': '23.06.2022',\n   'topic': 'Beteiligung deutscher Streitkräfte an UNIFIL (Beschlussempfehlung)',\n   'vote': 'Nein'},\n  {'date': '03.06.2022',\n   'topic': 'Sondervermögen Bundeswehr\\xa0(Gesetzentwurf )',\n   'vote': 'Nein'},\n  {'date': '03.06.2022',\n   'topic': 'Bundeswehrsondervermögensgesetz (Antrag AfD)',\n   'vote': 'Ja'},\n  {'date': '03.06.2022',\n   'topic': 'Gesetz zur Änderung des Grundgesetzes (Art. 87a GG)',\n   'vote': 'Nein'},\n  {'date': '03.06.2022',\n   'topic': 'Haushaltsgesetz 2022 (3. Beratung)',\n   'vote': 'Nein'},\n  {'date': '03.06.2022',\n   'topic': 'Schuldenregel des Grundgesetzes',\n   'vote': 'Nicht abg.                                                    '},\n  {'date': '03.06.2022',\n   'topic': 'Mindestlohn (Artikel 7 des Gesetzentwurfs der Bundesregierung)',\n   'vote': 'Enthalten'},\n  {'date': '01.06.2022',\n   'topic': 'Haushalt Bundeskanzler / Bundeskanzleramt (Beschlussempfehlung)',\n   'vote': 'Nein'},\n  {'date': '20.05.2022',\n   'topic': 'Wohneigentumsförderung, Gebäudeeffizienzförderung (Beschlussempfehlung)',\n   'vote': 'Ja'},\n  {'date': '20.05.2022',\n   'topic': 'Bundeswehreinsatz im Sahel mit Schwerpunkt Niger (EUTM Mali) (Beschlussempfehlung)',\n   'vote': 'Nein'},\n  {'date': '20.05.2022',\n   'topic': 'Bundeswehreinsatz in Mali (MINUSMA) (Beschlussempfehlung)',\n   'vote': 'Nein'},\n  {'date': '19.05.2022',\n   'topic': 'Pflegebonusgesetz (Beschlussempfehlung)',\n   'vote': 'Nein'},\n  {'date': '19.05.2022',\n   'topic': 'Ukrainehilfe, Nahrungsmittelversorgung weltweit (Beschlussempfehlung)',\n   'vote': 'Nein'},\n  {'date': '29.04.2022',\n   'topic': 'Fortsetzung der Beteiligung an EU NAVOR MED IRINI (Beschlussempfehlung)',\n   'vote': 'Nein'},\n  {'date': '28.04.2022',\n   'topic': 'Umfassende Unterstützung für die Ukraine (Antrag)',\n   'vote': 'Nein'},\n  {'date': '07.04.2022',\n   'topic': 'Impfpflicht gegen SARS-CoV-2 (Antrag der Fraktion der AfD)',\n   'vote': 'Ja'},\n  {'date': '07.04.2022',\n   'topic': 'Impfpflicht gegen SARS-CoV-2 (Antrag der Gruppe Kubicki u.a.)',\n   'vote': 'Ja'},\n  {'date': '07.04.2022',\n   'topic': 'Impfpflicht gegen SARS-CoV-2 (Antrag der Fraktion der CDU/CSU)',\n   'vote': 'Nein'},\n  {'date': '07.04.2022',\n   'topic': 'Impfpflicht gegen SARS-CoV-2 (Gruppe Baehrens/Janecek u.a.)',\n   'vote': 'Nicht abg.                                                    '},\n  {'date': '18.03.2022',\n   'topic': 'Bundeswehreinsatz SEA GUARDIAN im Mittelmeer',\n   'vote': 'Nein'},\n  {'date': '18.03.2022',\n   'topic': 'Bundeswehreinsatz in Südsudan (UNMISS)',\n   'vote': 'Nein'},\n  {'date': '18.03.2022',\n   'topic': 'Änderung des Infektionsschutzgesetzes ',\n   'vote': 'Nein'},\n  {'date': '17.03.2022',\n   'topic': 'Energieversorgung (Antrag CDU/CSU)',\n   'vote': 'Nein'},\n  {'date': '28.01.2022',\n   'topic': 'Bundeswehreinsatz im Irak (Beschlussempfehlung)',\n   'vote': 'Nein'},\n  {'date': '27.01.2022',\n   'topic': 'Zweites Nachtragshaushaltsgesetz 2021',\n   'vote': 'Nein'},\n  {'date': '27.01.2022',\n   'topic': 'Beschluss\\xa0gemäß Artikel 115 Absatz 2 Satz 6 und 7\\xa0Grundgesetz (Antrag)',\n   'vote': 'Nein'},\n  {'date': '10.12.2021',\n   'topic': 'Stärkung der Impfprävention gegen COVID-19, Gesetzentwurf SPD, Bündnis 90/Die Grünen und FDP',\n   'vote': 'Nicht abg.                                                    '},\n  {'date': '10.12.2021',\n   'topic': 'Stärkung der Impfprävention gegen COVID-19, Änderungsantrag Die Linke',\n   'vote': 'Nicht abg.                                                    '},\n  {'date': '18.11.2021',\n   'topic': 'Änderung des Infektionsschutzgesetzes (Entschließungsantrag CDU/CSU)',\n   'vote': 'Nein'},\n  {'date': '18.11.2021',\n   'topic': 'Änderung des Infektionsschutzgesetzes',\n   'vote': 'Nein'}]}"
     },
     "execution_count": 7,
     "metadata": {},
     "output_type": "execute_result"
    }
   ],
   "source": [
    "data[0]"
   ],
   "metadata": {
    "collapsed": false,
    "pycharm": {
     "name": "#%%\n"
    }
   }
  },
  {
   "cell_type": "code",
   "execution_count": 6,
   "metadata": {
    "collapsed": true,
    "pycharm": {
     "name": "#%%\n"
    }
   },
   "outputs": [
    {
     "data": {
      "text/plain": "                                                   img  \\\n0    /blueprint/servlet/resource/image/864122/3x4/1...   \n1    /blueprint/servlet/resource/image/864784/3x4/1...   \n2    /blueprint/servlet/resource/image/864108/3x4/1...   \n3    /blueprint/servlet/resource/image/862388/3x4/1...   \n4    /blueprint/servlet/resource/image/874084/3x4/1...   \n..                                                 ...   \n731  /blueprint/servlet/resource/image/864174/3x4/1...   \n732  /blueprint/servlet/resource/image/862382/3x4/1...   \n733  /blueprint/servlet/resource/image/864112/3x4/1...   \n734  /blueprint/servlet/resource/image/864798/3x4/1...   \n735  /blueprint/servlet/resource/image/864486/3x4/1...   \n\n                        name  direct geschlecht      id  \\\n0      Dr. Alexander Gauland       0   männlich  857328   \n1    Matthias Seestern-Pauly       0   männlich  858010   \n2      Michael Grosse-Brömer       0   männlich  857344   \n3        Marlene Schönberger       0   weiblich  860342   \n4                 Rasha Nasr       0   weiblich  861278   \n..                       ...     ...        ...     ...   \n731        Markus Frohnmaier       0   männlich  857304   \n732              Anja Schulz       0   weiblich  861214   \n733            Hermann Gröhe       1   männlich  857336   \n734           Stefan Schmidt       0   männlich  857950   \n735       Dr. Rolf Mützenich       1   männlich  857772   \n\n                                                  href       ageGroup  \\\n0    /abgeordnete/biografien/G/gauland_alexander-85...   70 und älter   \n1    /abgeordnete/biografien/S/seestern_pauly_matth...  35 - 39 Jahre   \n2    /abgeordnete/biografien/G/grosse_broemer_micha...  60 - 64 Jahre   \n3    /abgeordnete/biografien/S/schoenberger_marlene...  30 - 34 Jahre   \n4          /abgeordnete/biografien/N/nasr_rasha-861278  30 - 34 Jahre   \n..                                                 ...            ...   \n731  /abgeordnete/biografien/F/frohnmaier_markus-85...  30 - 34 Jahre   \n732       /abgeordnete/biografien/S/schulz_anja-861214  35 - 39 Jahre   \n733    /abgeordnete/biografien/G/groehe_hermann-857336  60 - 64 Jahre   \n734    /abgeordnete/biografien/S/schmidt_stefan-857950  40 - 44 Jahre   \n735   /abgeordnete/biografien/M/muetzenich_rolf-857772  60 - 64 Jahre   \n\n                lastnamefirst         federalState                  party  \\\n0      Gauland, Dr. Alexander          Brandenburg                    AfD   \n1    Seestern-Pauly, Matthias        Niedersachsen                    FDP   \n2      Grosse-Brömer, Michael        Niedersachsen                CDU/CSU   \n3        Schönberger, Marlene               Bayern  Bündnis 90/Die Grünen   \n4                 Nasr, Rasha              Sachsen                    SPD   \n..                        ...                  ...                    ...   \n731        Frohnmaier, Markus    Baden-Württemberg                    AfD   \n732              Schulz, Anja        Niedersachsen                    FDP   \n733            Gröhe, Hermann  Nordrhein-Westfalen                CDU/CSU   \n734           Schmidt, Stefan               Bayern  Bündnis 90/Die Grünen   \n735       Mützenich, Dr. Rolf  Nordrhein-Westfalen                    SPD   \n\n                                                 votes  \n0    [{'date': 2022-12-15, 'topic': 'Energiepreisbr...  \n1    [{'date': 2022-12-15, 'topic': 'Energiepreisbr...  \n2    [{'date': 2022-12-15, 'topic': 'Energiepreisbr...  \n3    [{'date': 2022-12-15, 'topic': 'Energiepreisbr...  \n4    [{'date': 2022-12-15, 'topic': 'Energiepreisbr...  \n..                                                 ...  \n731  [{'date': 2022-12-15, 'topic': 'Energiepreisbr...  \n732  [{'date': 2022-12-15, 'topic': 'Energiepreisbr...  \n733  [{'date': 2022-12-15, 'topic': 'Energiepreisbr...  \n734  [{'date': 2022-12-15, 'topic': 'Energiepreisbr...  \n735  [{'date': 2022-12-15, 'topic': 'Energiepreisbr...  \n\n[736 rows x 11 columns]",
      "text/html": "<div>\n<style scoped>\n    .dataframe tbody tr th:only-of-type {\n        vertical-align: middle;\n    }\n\n    .dataframe tbody tr th {\n        vertical-align: top;\n    }\n\n    .dataframe thead th {\n        text-align: right;\n    }\n</style>\n<table border=\"1\" class=\"dataframe\">\n  <thead>\n    <tr style=\"text-align: right;\">\n      <th></th>\n      <th>img</th>\n      <th>name</th>\n      <th>direct</th>\n      <th>geschlecht</th>\n      <th>id</th>\n      <th>href</th>\n      <th>ageGroup</th>\n      <th>lastnamefirst</th>\n      <th>federalState</th>\n      <th>party</th>\n      <th>votes</th>\n    </tr>\n  </thead>\n  <tbody>\n    <tr>\n      <th>0</th>\n      <td>/blueprint/servlet/resource/image/864122/3x4/1...</td>\n      <td>Dr. Alexander Gauland</td>\n      <td>0</td>\n      <td>männlich</td>\n      <td>857328</td>\n      <td>/abgeordnete/biografien/G/gauland_alexander-85...</td>\n      <td>70 und älter</td>\n      <td>Gauland, Dr. Alexander</td>\n      <td>Brandenburg</td>\n      <td>AfD</td>\n      <td>[{'date': 2022-12-15, 'topic': 'Energiepreisbr...</td>\n    </tr>\n    <tr>\n      <th>1</th>\n      <td>/blueprint/servlet/resource/image/864784/3x4/1...</td>\n      <td>Matthias Seestern-Pauly</td>\n      <td>0</td>\n      <td>männlich</td>\n      <td>858010</td>\n      <td>/abgeordnete/biografien/S/seestern_pauly_matth...</td>\n      <td>35 - 39 Jahre</td>\n      <td>Seestern-Pauly, Matthias</td>\n      <td>Niedersachsen</td>\n      <td>FDP</td>\n      <td>[{'date': 2022-12-15, 'topic': 'Energiepreisbr...</td>\n    </tr>\n    <tr>\n      <th>2</th>\n      <td>/blueprint/servlet/resource/image/864108/3x4/1...</td>\n      <td>Michael Grosse-Brömer</td>\n      <td>0</td>\n      <td>männlich</td>\n      <td>857344</td>\n      <td>/abgeordnete/biografien/G/grosse_broemer_micha...</td>\n      <td>60 - 64 Jahre</td>\n      <td>Grosse-Brömer, Michael</td>\n      <td>Niedersachsen</td>\n      <td>CDU/CSU</td>\n      <td>[{'date': 2022-12-15, 'topic': 'Energiepreisbr...</td>\n    </tr>\n    <tr>\n      <th>3</th>\n      <td>/blueprint/servlet/resource/image/862388/3x4/1...</td>\n      <td>Marlene Schönberger</td>\n      <td>0</td>\n      <td>weiblich</td>\n      <td>860342</td>\n      <td>/abgeordnete/biografien/S/schoenberger_marlene...</td>\n      <td>30 - 34 Jahre</td>\n      <td>Schönberger, Marlene</td>\n      <td>Bayern</td>\n      <td>Bündnis 90/Die Grünen</td>\n      <td>[{'date': 2022-12-15, 'topic': 'Energiepreisbr...</td>\n    </tr>\n    <tr>\n      <th>4</th>\n      <td>/blueprint/servlet/resource/image/874084/3x4/1...</td>\n      <td>Rasha Nasr</td>\n      <td>0</td>\n      <td>weiblich</td>\n      <td>861278</td>\n      <td>/abgeordnete/biografien/N/nasr_rasha-861278</td>\n      <td>30 - 34 Jahre</td>\n      <td>Nasr, Rasha</td>\n      <td>Sachsen</td>\n      <td>SPD</td>\n      <td>[{'date': 2022-12-15, 'topic': 'Energiepreisbr...</td>\n    </tr>\n    <tr>\n      <th>...</th>\n      <td>...</td>\n      <td>...</td>\n      <td>...</td>\n      <td>...</td>\n      <td>...</td>\n      <td>...</td>\n      <td>...</td>\n      <td>...</td>\n      <td>...</td>\n      <td>...</td>\n      <td>...</td>\n    </tr>\n    <tr>\n      <th>731</th>\n      <td>/blueprint/servlet/resource/image/864174/3x4/1...</td>\n      <td>Markus Frohnmaier</td>\n      <td>0</td>\n      <td>männlich</td>\n      <td>857304</td>\n      <td>/abgeordnete/biografien/F/frohnmaier_markus-85...</td>\n      <td>30 - 34 Jahre</td>\n      <td>Frohnmaier, Markus</td>\n      <td>Baden-Württemberg</td>\n      <td>AfD</td>\n      <td>[{'date': 2022-12-15, 'topic': 'Energiepreisbr...</td>\n    </tr>\n    <tr>\n      <th>732</th>\n      <td>/blueprint/servlet/resource/image/862382/3x4/1...</td>\n      <td>Anja Schulz</td>\n      <td>0</td>\n      <td>weiblich</td>\n      <td>861214</td>\n      <td>/abgeordnete/biografien/S/schulz_anja-861214</td>\n      <td>35 - 39 Jahre</td>\n      <td>Schulz, Anja</td>\n      <td>Niedersachsen</td>\n      <td>FDP</td>\n      <td>[{'date': 2022-12-15, 'topic': 'Energiepreisbr...</td>\n    </tr>\n    <tr>\n      <th>733</th>\n      <td>/blueprint/servlet/resource/image/864112/3x4/1...</td>\n      <td>Hermann Gröhe</td>\n      <td>1</td>\n      <td>männlich</td>\n      <td>857336</td>\n      <td>/abgeordnete/biografien/G/groehe_hermann-857336</td>\n      <td>60 - 64 Jahre</td>\n      <td>Gröhe, Hermann</td>\n      <td>Nordrhein-Westfalen</td>\n      <td>CDU/CSU</td>\n      <td>[{'date': 2022-12-15, 'topic': 'Energiepreisbr...</td>\n    </tr>\n    <tr>\n      <th>734</th>\n      <td>/blueprint/servlet/resource/image/864798/3x4/1...</td>\n      <td>Stefan Schmidt</td>\n      <td>0</td>\n      <td>männlich</td>\n      <td>857950</td>\n      <td>/abgeordnete/biografien/S/schmidt_stefan-857950</td>\n      <td>40 - 44 Jahre</td>\n      <td>Schmidt, Stefan</td>\n      <td>Bayern</td>\n      <td>Bündnis 90/Die Grünen</td>\n      <td>[{'date': 2022-12-15, 'topic': 'Energiepreisbr...</td>\n    </tr>\n    <tr>\n      <th>735</th>\n      <td>/blueprint/servlet/resource/image/864486/3x4/1...</td>\n      <td>Dr. Rolf Mützenich</td>\n      <td>1</td>\n      <td>männlich</td>\n      <td>857772</td>\n      <td>/abgeordnete/biografien/M/muetzenich_rolf-857772</td>\n      <td>60 - 64 Jahre</td>\n      <td>Mützenich, Dr. Rolf</td>\n      <td>Nordrhein-Westfalen</td>\n      <td>SPD</td>\n      <td>[{'date': 2022-12-15, 'topic': 'Energiepreisbr...</td>\n    </tr>\n  </tbody>\n</table>\n<p>736 rows × 11 columns</p>\n</div>"
     },
     "execution_count": 6,
     "metadata": {},
     "output_type": "execute_result"
    }
   ],
   "source": [
    "# load wiki data\n",
    "data = pickle.load(open(\"voting_data.pkl\", \"rb\"))\n",
    "\n",
    "# evaluate votes\n",
    "for member in data:\n",
    "\n",
    "    # create variables to store answer type count\n",
    "    yes = 0\n",
    "    no = 0\n",
    "    abstention = 0\n",
    "    absent = 0\n",
    "\n",
    "    for vote in member[\"votes\"]:\n",
    "        if vote[\"vote\"] == \"Ja\":\n",
    "            yes += 1\n",
    "        elif vote[\"vote\"] == \"Nein\":\n",
    "            no += 1\n",
    "        elif vote[\"vote\"] == \"Enthalten\":\n",
    "            abstention += 1\n",
    "\n",
    "# convert data to pandas df\n",
    "df = pd.DataFrame(data)\n",
    "\n",
    "df"
   ]
  }
 ],
 "metadata": {
  "kernelspec": {
   "display_name": "Python 3",
   "language": "python",
   "name": "python3"
  },
  "language_info": {
   "codemirror_mode": {
    "name": "ipython",
    "version": 2
   },
   "file_extension": ".py",
   "mimetype": "text/x-python",
   "name": "python",
   "nbconvert_exporter": "python",
   "pygments_lexer": "ipython2",
   "version": "2.7.6"
  }
 },
 "nbformat": 4,
 "nbformat_minor": 0
}